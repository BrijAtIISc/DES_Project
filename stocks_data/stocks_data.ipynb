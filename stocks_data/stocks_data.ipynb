{
 "cells": [
  {
   "cell_type": "code",
   "execution_count": null,
   "metadata": {},
   "outputs": [],
   "source": [
    "import yfinance as yf\n",
    "import pandas as pd\n",
    "from datetime import datetime, timedelta\n",
    "\n",
    "# Define your lists\n",
    "tickers = [\"AAPL\", \"MSFT\", \"GOOGL\"]  # Example list of tickers\n",
    "sectoral_indices = [\"^GSPC\", \"^IXIC\"]  # Example list of indices (e.g., S&P 500, Nasdaq)\n",
    "\n",
    "# Get today's date and calculate one year ago\n",
    "end_date = datetime(2024, 11, 15).strftime('%Y-%m-%d')\n",
    "start_date = (end_date - timedelta(days=365)).strftime('%Y-%m-%d')\n",
    "\n",
    "# Combine tickers and indices for batch download\n",
    "all_symbols = tickers + sectoral_indices\n",
    "\n",
    "# Download data for the last year\n",
    "data = yf.download(all_symbols, start=start_date, end=end_date, interval='1d', group_by=\"ticker\")\n",
    "\n",
    "# Save data to CSV for inspection (optional)\n",
    "data.to_csv(\"ticker_sectoral_data.csv\")\n",
    "\n",
    "# Display a summary\n",
    "print(\"Data successfully downloaded!\")\n",
    "print(data.head())\n"
   ]
  }
 ],
 "metadata": {
  "kernelspec": {
   "display_name": "Python 3",
   "language": "python",
   "name": "python3"
  },
  "language_info": {
   "name": "python",
   "version": "3.9.6"
  }
 },
 "nbformat": 4,
 "nbformat_minor": 2
}
