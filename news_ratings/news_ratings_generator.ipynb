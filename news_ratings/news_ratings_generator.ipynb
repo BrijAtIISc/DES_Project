{
 "cells": [
  {
   "cell_type": "code",
   "execution_count": null,
   "metadata": {
    "id": "_-mFGiW-__l3"
   },
   "outputs": [],
   "source": [
    "import os\n",
    "import re\n",
    "import json\n",
    "import torch\n",
    "import pandas as pd\n",
    "\n",
    "from transformers import pipeline\n",
    "from groq import Groq"
   ]
  },
  {
   "cell_type": "code",
   "execution_count": null,
   "metadata": {
    "id": "FLwBbY4GBVj8"
   },
   "outputs": [],
   "source": [
    "# Constants\n",
    "LLM_MODEL = \"llama-3.2-90b-text-preview\"\n",
    "DEVICE = torch.device('cuda' if torch.cuda.is_available() else 'cpu')"
   ]
  },
  {
   "cell_type": "code",
   "execution_count": null,
   "metadata": {
    "id": "s3b7PyN5_tw5"
   },
   "outputs": [],
   "source": [
    "summarizer = pipeline(\"summarization\", device=DEVICE)\n",
    "def get_summary(text):\n",
    "    summary = summarizer(text, truncation=True, max_length=300, min_length=50, do_sample=True, temperature=0.3)\n",
    "    return summary[0]['summary_text']"
   ]
  },
  {
   "cell_type": "code",
   "execution_count": null,
   "metadata": {
    "id": "kz3HCY8H_tty"
   },
   "outputs": [],
   "source": [
    "client = Groq(api_key=os.environ['GROQ_API_KEY'])\n",
    "def get_favourability_ratings(text):\n",
    "    completion = client.chat.completions.create(\n",
    "        model=LLM_MODEL,\n",
    "        messages=[\n",
    "            {\n",
    "                \"role\": \"system\",\n",
    "                \"content\": (\n",
    "                    \"You are an expert political analyst. Read the text provided by the user. \"\n",
    "                    \"Describe how favourable is it to democrats, and to republicans, in under 50 words. \"\n",
    "                    \"Also provide two scores on a scale of 1 to 5, quantifying this favourability to the two parties \"\n",
    "                    \"in a JSON format with two keys \\\"democrats\\\" & \\\"republicans\\\".\"\n",
    "                )\n",
    "            },\n",
    "            {\n",
    "                \"role\": \"user\",\n",
    "                \"content\": text\n",
    "            }\n",
    "        ],\n",
    "        temperature=0.25,\n",
    "        max_tokens=512,\n",
    "        top_p=1,\n",
    "        stream=False,\n",
    "        stop=None,\n",
    "    )\n",
    "    ratings_with_explanation = completion.choices[0].message.content\n",
    "\n",
    "    print('completion_tokens: ', completion.usage.completion_tokens)\n",
    "    print('prompt_tokens: ', completion.usage.prompt_tokens)\n",
    "    print('total_tokens: ', completion.usage.total_tokens)\n",
    "    print(ratings_with_explanation)\n",
    "    return ratings_with_explanation"
   ]
  },
  {
   "cell_type": "code",
   "execution_count": null,
   "metadata": {
    "id": "A7USQWvt_toC"
   },
   "outputs": [],
   "source": [
    "def find_json_objects(input_string):\n",
    "    json_pattern = r'\\{.*?\\}'\n",
    "    potential_jsons = re.findall(json_pattern, input_string)\n",
    "\n",
    "    valid_jsons = []\n",
    "    for json_str in potential_jsons:\n",
    "        try:\n",
    "            json_obj = json.loads(json_str)\n",
    "            valid_jsons.append(json_obj)\n",
    "        except json.JSONDecodeError:\n",
    "            continue\n",
    "\n",
    "    return valid_jsons"
   ]
  },
  {
   "cell_type": "code",
   "execution_count": null,
   "metadata": {
    "id": "ZSqrJFwrOpTJ"
   },
   "outputs": [],
   "source": [
    "def generate_ratings(article):\n",
    "    summary = get_summary(article)\n",
    "    ratings_with_explanation = get_favourability_ratings(summary)\n",
    "    rating = find_json_objects(ratings_with_explanation)[0]\n",
    "    return rating"
   ]
  },
  {
   "cell_type": "code",
   "execution_count": null,
   "metadata": {},
   "outputs": [],
   "source": [
    "article_df = pd.read_excel('articles.xlsx')\n",
    "article_df['ratings'] = article_df['article'].apply(generate_ratings)\n",
    "article_df.to_excel('articles_with_ratings.xlsx', index=False)"
   ]
  }
 ],
 "metadata": {
  "colab": {
   "provenance": []
  },
  "kernelspec": {
   "display_name": "Python 3",
   "name": "python3"
  },
  "language_info": {
   "codemirror_mode": {
    "name": "ipython",
    "version": 3
   },
   "file_extension": ".py",
   "mimetype": "text/x-python",
   "name": "python",
   "nbconvert_exporter": "python",
   "pygments_lexer": "ipython3",
   "version": "3.9.6"
  }
 },
 "nbformat": 4,
 "nbformat_minor": 0
}
